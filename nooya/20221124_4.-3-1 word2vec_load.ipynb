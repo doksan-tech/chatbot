{
 "cells": [
  {
   "cell_type": "markdown",
   "metadata": {},
   "source": [
    "#### Word2Vec 모델 활용 \n",
    "#### 생성된 Word2Vec 모델 파일 읽어와 실제로 단어 임베딩된 값과 벡터 공간상 유사한 단어들을 확인하는 실습"
   ]
  },
  {
   "cell_type": "code",
   "execution_count": 3,
   "metadata": {},
   "outputs": [
    {
     "name": "stdout",
     "output_type": "stream",
     "text": [
      "corpus_total_words : 1076899\n",
      "사랑 :  [ 0.10571519 -0.34947696  0.25479358 -0.06093866  0.11796167 -0.17737497\n",
      " -0.03840343  0.11317117  0.21398926  0.1494815  -0.19224636 -0.04477054\n",
      "  0.37552497  0.00370811 -0.0828092   0.48101112 -0.40548125  0.22237165\n",
      "  0.1978515  -0.28320134  0.13234489  0.03021525 -0.07658132  0.1431402\n",
      " -0.09338315 -0.10010717  0.23467895  0.03716002 -0.1559469  -0.07967264\n",
      "  0.01406991 -0.1832381  -0.01354622 -0.2383076   0.06395958  0.08305722\n",
      " -0.02027438 -0.20349807 -0.11989319 -0.07852013 -0.23202795 -0.00113475\n",
      " -0.12033931 -0.4251508   0.44327727  0.11841749 -0.27459702  0.04526619\n",
      "  0.31999555 -0.04839818  0.3721923  -0.23766561 -0.09415359 -0.10057796\n",
      "  0.3306403   0.16109163  0.15177424 -0.17042555 -0.07036048 -0.16357042\n",
      "  0.07116891 -0.07157832 -0.27953172  0.02392001  0.0032913  -0.03247882\n",
      " -0.24368915  0.31174618  0.10188821  0.52699494 -0.3126334  -0.20189895\n",
      "  0.05840653  0.05481672 -0.11500054  0.12085146  0.07384666  0.07331735\n",
      " -0.37947074  0.13933139  0.16672812 -0.01465806  0.1305206   0.14736757\n",
      " -0.34548995 -0.08768812 -0.04236042  0.07100128  0.07722643  0.04794195\n",
      "  0.24482065  0.07972667 -0.03856913 -0.26534837  0.4748494  -0.07446595\n",
      " -0.02252791  0.1311972   0.04523678  0.03443702 -0.33800024  0.5070946\n",
      "  0.20348966  0.17409141 -0.18711405 -0.17062555 -0.06243451 -0.00223727\n",
      " -0.19529572 -0.55975455  0.37546268 -0.41700512 -0.08316008  0.08048318\n",
      "  0.09940689 -0.304688    0.04376188 -0.06218797 -0.11062966 -0.31422395\n",
      "  0.09289563  0.21480651 -0.07139745 -0.05473078 -0.00499796  0.24026933\n",
      " -0.13526034  0.34425855 -0.02859793  0.14100188 -0.1252533   0.3394048\n",
      " -0.29279038 -0.10276356 -0.2016556   0.4798359   0.22476333 -0.23411776\n",
      "  0.03390232  0.0538923  -0.0314197  -0.04779654 -0.19688317  0.03620512\n",
      " -0.01146262 -0.22407396  0.07166427 -0.0019196  -0.23662215 -0.04799828\n",
      " -0.08288467 -0.06530248  0.07532536 -0.18858264 -0.17095473 -0.21149737\n",
      "  0.18251604  0.23154795  0.30425927 -0.09967878 -0.02344769 -0.25158837\n",
      " -0.07059763 -0.11794609 -0.02371867  0.10765894 -0.10865564 -0.12027489\n",
      "  0.11224441  0.2051291  -0.50042814  0.25065696  0.3352597  -0.43309003\n",
      "  0.07331365 -0.12381243  0.17608738 -0.37189034  0.06653524 -0.03561852\n",
      " -0.13476701  0.22277023  0.19730636  0.09094796  0.06047829 -0.06524043\n",
      " -0.11682543 -0.16874407  0.2499482  -0.11409751  0.3506216  -0.27530202\n",
      "  0.02204388  0.19778967  0.2031516  -0.3045296   0.11686426 -0.11207873\n",
      "  0.07382064 -0.03638947]\n",
      "일요일 = 월요일\t 0.63817894\n",
      "안성기 = 배우\t 0.5093286\n",
      "대기업 = 삼성\t 0.5307433\n",
      "일요일 != 삼성\t 0.24574189\n",
      "히어로 != 삼성\t 0.13806587\n",
      "[('박신양', 0.6857700943946838), ('칸노 미호', 0.6855649948120117), ('정려원', 0.6845311522483826), ('외국어', 0.6843705177307129), ('능청', 0.6788438558578491)]\n",
      "[('캐리비안의 해적', 0.6399643421173096), ('더 울버린', 0.6390013694763184), ('엑스맨', 0.6245731711387634), ('X맨', 0.6209995150566101), ('러시아워', 0.6149172782897949)]\n"
     ]
    }
   ],
   "source": [
    "# Word2Vec 모델 활용 \n",
    "\n",
    "from gensim.models import Word2Vec \n",
    "\n",
    "# 모델 로딩\n",
    "# Word2Vec 객체 생성 \n",
    "model = Word2Vec.load('./nvmc.model') \n",
    "print('corpus_total_words :', model.corpus_total_words) \n",
    "\n",
    "# '사랑' 단어로 생성한 단어 임베딩 벡터 \n",
    "# 모델 학습할 때 설정한 vector_size 하이퍼파라미터 만큼 단어 임베딩 벡터 차원 크기결정\n",
    "print('사랑 : ', model.wv['사랑']) \n",
    "\n",
    "# 단어 유사도 계산 \n",
    "# gensim 패키지 model.wv.similarity() 함수 호출하면 두 단어 간의 유사도 계산 \n",
    "print('일요일 = 월요일\\t', model.wv.similarity(w1='일요일', w2='월요일')) \n",
    "print('안성기 = 배우\\t', model.wv.similarity(w1='안성기', w2='배우'))\n",
    "print('대기업 = 삼성\\t', model.wv.similarity(w1='대기업', w2='삼성'))\n",
    "print('일요일 != 삼성\\t', model.wv.similarity(w1='일요일', w2='삼성'))\n",
    "print('히어로 != 삼성\\t', model.wv.similarity(w1='히어로', w2='삼성'))\n",
    "\n",
    "# 가장 유사한 단어 추출 \n",
    "# gensim 패키지 model.wv.most_similar() 함수 호출하면 인자로 사용한 단어와 가장 유사한 단어 리스트로 반환.\n",
    "# 벡터 공간에서 가장 가까운 거리에 있는 단어 반환 \n",
    "# topn 인자는 반환되는 유사한 단어 수를 의미.\n",
    "print(model.wv.most_similar('안성기', topn=5))\n",
    "print(model.wv.most_similar('시리즈', topn=5))"
   ]
  },
  {
   "cell_type": "code",
   "execution_count": null,
   "metadata": {},
   "outputs": [],
   "source": []
  },
  {
   "cell_type": "code",
   "execution_count": null,
   "metadata": {},
   "outputs": [],
   "source": []
  },
  {
   "cell_type": "code",
   "execution_count": null,
   "metadata": {},
   "outputs": [],
   "source": []
  },
  {
   "cell_type": "code",
   "execution_count": null,
   "metadata": {},
   "outputs": [],
   "source": []
  },
  {
   "cell_type": "code",
   "execution_count": null,
   "metadata": {},
   "outputs": [],
   "source": []
  },
  {
   "cell_type": "code",
   "execution_count": null,
   "metadata": {},
   "outputs": [],
   "source": []
  },
  {
   "cell_type": "code",
   "execution_count": null,
   "metadata": {},
   "outputs": [],
   "source": []
  },
  {
   "cell_type": "code",
   "execution_count": null,
   "metadata": {},
   "outputs": [],
   "source": []
  },
  {
   "cell_type": "code",
   "execution_count": null,
   "metadata": {},
   "outputs": [],
   "source": []
  },
  {
   "cell_type": "code",
   "execution_count": null,
   "metadata": {},
   "outputs": [],
   "source": []
  },
  {
   "cell_type": "code",
   "execution_count": null,
   "metadata": {},
   "outputs": [],
   "source": []
  },
  {
   "cell_type": "code",
   "execution_count": null,
   "metadata": {},
   "outputs": [],
   "source": []
  },
  {
   "cell_type": "code",
   "execution_count": null,
   "metadata": {},
   "outputs": [],
   "source": []
  },
  {
   "cell_type": "code",
   "execution_count": null,
   "metadata": {},
   "outputs": [],
   "source": []
  },
  {
   "cell_type": "code",
   "execution_count": null,
   "metadata": {},
   "outputs": [],
   "source": []
  },
  {
   "cell_type": "code",
   "execution_count": null,
   "metadata": {},
   "outputs": [],
   "source": []
  },
  {
   "cell_type": "code",
   "execution_count": null,
   "metadata": {},
   "outputs": [],
   "source": []
  },
  {
   "cell_type": "code",
   "execution_count": null,
   "metadata": {},
   "outputs": [],
   "source": []
  },
  {
   "cell_type": "code",
   "execution_count": null,
   "metadata": {},
   "outputs": [],
   "source": []
  },
  {
   "cell_type": "code",
   "execution_count": null,
   "metadata": {},
   "outputs": [],
   "source": []
  },
  {
   "cell_type": "code",
   "execution_count": null,
   "metadata": {},
   "outputs": [],
   "source": []
  },
  {
   "cell_type": "code",
   "execution_count": null,
   "metadata": {},
   "outputs": [],
   "source": []
  },
  {
   "cell_type": "code",
   "execution_count": null,
   "metadata": {},
   "outputs": [],
   "source": []
  },
  {
   "cell_type": "code",
   "execution_count": null,
   "metadata": {},
   "outputs": [],
   "source": []
  },
  {
   "cell_type": "code",
   "execution_count": null,
   "metadata": {},
   "outputs": [],
   "source": []
  },
  {
   "cell_type": "code",
   "execution_count": null,
   "metadata": {},
   "outputs": [],
   "source": []
  },
  {
   "cell_type": "code",
   "execution_count": null,
   "metadata": {},
   "outputs": [],
   "source": []
  }
 ],
 "metadata": {
  "kernelspec": {
   "display_name": "Python 3.9.12 ('base')",
   "language": "python",
   "name": "python3"
  },
  "language_info": {
   "codemirror_mode": {
    "name": "ipython",
    "version": 3
   },
   "file_extension": ".py",
   "mimetype": "text/x-python",
   "name": "python",
   "nbconvert_exporter": "python",
   "pygments_lexer": "ipython3",
   "version": "3.9.12"
  },
  "orig_nbformat": 4,
  "vscode": {
   "interpreter": {
    "hash": "9b6f0d8d647a14ce7aec9650edf6792f5fc61b159b6795cf61c93c7b5c41aef5"
   }
  }
 },
 "nbformat": 4,
 "nbformat_minor": 2
}
