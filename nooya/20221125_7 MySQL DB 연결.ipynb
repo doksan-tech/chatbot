{
 "cells": [
  {
   "cell_type": "code",
   "execution_count": 2,
   "metadata": {},
   "outputs": [
    {
     "name": "stdout",
     "output_type": "stream",
     "text": [
      "DB 연결 성공\n",
      "DB 연결 닫기 성공\n"
     ]
    }
   ],
   "source": [
    "import pymysql\n",
    "\n",
    "# DB_HOST=127.0.0.1\n",
    "# DB_PORT=3306\n",
    "# DB_DATABASE=homestead\n",
    "# DB_USERNAME=homestead\n",
    "# DB_PASSWORD=secret\n",
    "\n",
    "db = None\n",
    "try:\n",
    "    # DB 호스트 정보에 맞게 입력해주세요\n",
    "    db = pymysql.connect(\n",
    "        host='127.0.0.1',\n",
    "        user='root',\n",
    "        passwd='1234',\n",
    "        db='chatbot',\n",
    "        charset='utf8'\n",
    "    )\n",
    "    print(\"DB 연결 성공\")\n",
    "\n",
    "\n",
    "except Exception as e:\n",
    "    print(e)\n",
    "\n",
    "finally:\n",
    "    if db is not None:\n",
    "        db.close()\n",
    "        print(\"DB 연결 닫기 성공\")"
   ]
  }
 ],
 "metadata": {
  "kernelspec": {
   "display_name": "Python 3.9.12 ('base')",
   "language": "python",
   "name": "python3"
  },
  "language_info": {
   "codemirror_mode": {
    "name": "ipython",
    "version": 3
   },
   "file_extension": ".py",
   "mimetype": "text/x-python",
   "name": "python",
   "nbconvert_exporter": "python",
   "pygments_lexer": "ipython3",
   "version": "3.9.12"
  },
  "orig_nbformat": 4,
  "vscode": {
   "interpreter": {
    "hash": "9b6f0d8d647a14ce7aec9650edf6792f5fc61b159b6795cf61c93c7b5c41aef5"
   }
  }
 },
 "nbformat": 4,
 "nbformat_minor": 2
}
