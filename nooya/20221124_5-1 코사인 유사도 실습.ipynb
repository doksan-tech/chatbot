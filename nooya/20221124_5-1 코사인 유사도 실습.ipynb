{
 "cells": [
  {
   "cell_type": "code",
   "execution_count": 1,
   "metadata": {},
   "outputs": [
    {
     "name": "stdout",
     "output_type": "stream",
     "text": [
      "{'6월': 1, '뉴턴': 1, '선생님': 1, '제안': 1, '트리니티': 1, '입학': 1, '대학교': 0, '점심': 0, '선생': 0, '님과 함께': 0}\n",
      "{'6월': 1, '뉴턴': 1, '선생님': 1, '제안': 1, '트리니티': 0, '입학': 1, '대학교': 1, '점심': 0, '선생': 0, '님과 함께': 0}\n",
      "{'6월': 0, '뉴턴': 1, '선생님': 0, '제안': 0, '트리니티': 0, '입학': 0, '대학교': 0, '점심': 1, '선생': 1, '님과 함께': 1}\n",
      "0.8333333333333335\n",
      "0.20412414523193154\n"
     ]
    }
   ],
   "source": [
    "from konlpy.tag import Komoran \n",
    "import numpy as np \n",
    "from numpy import dot    \n",
    "from numpy.linalg import norm \n",
    "\n",
    "# 코사인 유사도 계산\n",
    "# 넘파이 벡터 내적 계산하는 함수와 노름(norm) 계산하는 함수 이용\n",
    "# dot() 함수는 인자로 들어온 2개의 넘파이 배열을 내적곱 한다\n",
    "# norm() 함수는 벡터 크기 나태내느 수학 용어.\n",
    "# L2 노름(유클리드 노름) 주로 사용 \n",
    "def cos_sim(vec1, vec2):\n",
    "    return dot(vec1, vec2) / (norm(vec1) * norm(vec2)) \n",
    "\n",
    "# TDM 만들기\n",
    "# 비교 문장에서 추출한 단어 사전을 기준으로 문장에 해당 단어들이 얼마나 포함되어 있는지 나타내는 단어 문서 행렬(TDM) 만드느 함수\n",
    "def make_term_doc_mat(sentence_bow, word_dics):\n",
    "    freq_mat = {} \n",
    "    \n",
    "    for word in word_dics:\n",
    "        freq_mat[word] = 0 \n",
    "    \n",
    "    for word in word_dics:\n",
    "        if word in sentence_bow:\n",
    "            freq_mat[word] += 1 \n",
    "            \n",
    "    return freq_mat \n",
    "\n",
    "# 단어 벡터 만들기\n",
    "# 단어 문서 행렬에서 표현된 토큰들의 출현 빈도 데이터를 벡터로 만들어 주는 함수 \n",
    "def make_vector(tdm):\n",
    "    vec = [] \n",
    "    for key in tdm:\n",
    "        vec.append(tdm[key]) \n",
    "    return vec \n",
    "\n",
    "# 문장 정의 \n",
    "sentence1 = '6월에 뉴턴은 선생님의 제안으로 트리니티에 입학했다' \n",
    "sentence2 = '6월에 뉴턴은 선생님의 제안으로 대학교에 입학했다' \n",
    "sentence3 = '나는 맛있는 점심을 뉴턴 선생님과 함께 먹었다' \n",
    "\n",
    "# 형태소 분석기를 이용해 단어 묶음 리스트 생성 \n",
    "# Komoran 형태소 분석기 이용해 정의된 문장에서 명사를 리스트 형태로 추출 \n",
    "komoran = Komoran() \n",
    "bow1 = komoran.nouns(sentence1) \n",
    "bow2 = komoran.nouns(sentence2) \n",
    "bow3 = komoran.nouns(sentence3) \n",
    "\n",
    "# 단어 묶음 리스트를 하나로 합침 \n",
    "# 3개 문장에서 추출한 단어 리스트를 하나 리스트로 합침 \n",
    "bow = bow1 + bow2 + bow3 \n",
    "\n",
    "# 단어 묶음에서 중복을 제거해 단어 사전 구축 \n",
    "# 하나로 합쳐진 단어 묶음 리스트에서 중복된 단어를 제거해 새로운 단어 리스트 구축 \n",
    "word_dics = [] \n",
    "for token in bow: \n",
    "    if token not in word_dics:\n",
    "        word_dics.append(token) \n",
    "        \n",
    "# 문장별 단어 문서 행렬 계산 \n",
    "freq_list1 = make_term_doc_mat(bow1, word_dics) \n",
    "freq_list2 = make_term_doc_mat(bow2, word_dics) \n",
    "freq_list3 = make_term_doc_mat(bow3, word_dics) \n",
    "print(freq_list1) \n",
    "print(freq_list2) \n",
    "print(freq_list3)\n",
    "\n",
    "# 문장 벡터 생성 \n",
    "# 각 문장마다 벡터를 생성해 넘파이 배열로 변환. 처음 만든 코사인 유사도 함수의 인자는 반드시 넘파이 배열로 넘겨야 함\n",
    "doc1 = np.array(make_vector(freq_list1)) \n",
    "doc2 = np.array(make_vector(freq_list2))\n",
    "doc3 = np.array(make_vector(freq_list3))\n",
    "\n",
    "# 코사인 유사도 계산 \n",
    "# 문장1과 문장2 유사도 계산\n",
    "r1 = cos_sim(doc1, doc2) \n",
    "r2 = cos_sim(doc3, doc1) \n",
    "print(r1) \n",
    "print(r2) "
   ]
  }
 ],
 "metadata": {
  "kernelspec": {
   "display_name": "Python 3.9.12 ('base')",
   "language": "python",
   "name": "python3"
  },
  "language_info": {
   "codemirror_mode": {
    "name": "ipython",
    "version": 3
   },
   "file_extension": ".py",
   "mimetype": "text/x-python",
   "name": "python",
   "nbconvert_exporter": "python",
   "pygments_lexer": "ipython3",
   "version": "3.9.12"
  },
  "orig_nbformat": 4,
  "vscode": {
   "interpreter": {
    "hash": "9b6f0d8d647a14ce7aec9650edf6792f5fc61b159b6795cf61c93c7b5c41aef5"
   }
  }
 },
 "nbformat": 4,
 "nbformat_minor": 2
}
