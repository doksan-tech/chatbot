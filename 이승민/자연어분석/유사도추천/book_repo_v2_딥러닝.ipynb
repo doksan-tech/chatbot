{
 "cells": [
  {
   "cell_type": "markdown",
   "metadata": {},
   "source": [
    "# 딥러닝(Deep learning) "
   ]
  },
  {
   "cell_type": "markdown",
   "metadata": {},
   "source": [
    "## 1.1 딥 러닝의 학습 방법\n",
    "\n",
    "- 손실 함수, 옵티마이저, 에포크"
   ]
  },
  {
   "cell_type": "markdown",
   "metadata": {},
   "source": [
    "### 1.1.1 손실 함수(Loss function)\n",
    "\n",
    "- 실제값과 예측값의 차이\n",
    "- 두 값의 차이. 즉, 오차가 클 수록 손실 함수의 값은 크고 오차가 작을 수록 손실 함수의 값은 작아짐\n",
    "- 회귀: 평균 제곱 오차\n",
    "- 분류: 크로스 엔트로피\n",
    "\n",
    "- 손실 함수의 값을 최소화하는 두 개의 매개변수인 가중치 와 편향 의 값을 찾는 것이 딥 러닝의 학습 과정\n",
    "\n",
    "#### 1.1.1.1 MSE(Mean Squared Error, MSE)\n",
    "\n",
    "- 선형 회귀를 학습할 때 배웠던 손실 함수\n",
    "- 연속형 변수를 예측\n",
    "- compile의 loss에 문자열 'mse'라고 기재하여 사용\n",
    "- model.compile(optimizer='adam', loss='mse', metrics=['mse'])\n",
    "\n",
    "\n",
    "- compile의 loss는 tf.keras.losses.Loss 인스턴스를 호출하므로 위 코드는 아래와 같이 사용\n",
    "- model.compile(optimizer='adam', loss=tf.keras.losses.MeanSquaredError(), metrics=['mse'])\n",
    "\n",
    "딥 러닝 자연어 처리는 대부분 분류 문제이므로 평균 제곱 오차보다는 아래의 크로스 엔트로피 함수들을 주로 사용\n",
    "\n",
    "#### 1.1.1.2 이진 크로스 엔트로피(Binary Cross-Entropy)\n",
    "\n",
    "- 출력층에서 시그모이드 함수를 사용하는 이진 분류 (Binary Classification)의 경우 binary_crossentropy를 사용\n",
    "-  compile의 loss에 문자열로 'binary_crossentropy'를 기재\n",
    "- 로지스틱 회귀에서 사용했던 손실 함수\n",
    "- model.compile(loss='binary_crossentropy', optimizer='adam', metrics=['acc'])\n",
    "- compile의 loss는 tf.keras.losses.Loss 인스턴스를 호출하므로 위 코드는 아래와 같이 사용\n",
    "- model.compile(loss=tf.keras.losses.BinaryCrossentropy(), optimizer='adam', metrics=['acc'])\n",
    "\n",
    "\n",
    "#### 1.1.1.3 카테고리칼 크로스 엔트로피(Categorical Cross-Entropy)\n",
    "\n",
    "- 출력층에서 소프트맥스 함수를 사용하는 다중 클래스 분류(Multi-Class Classification)일 경우 categorical_crossentropy를 사용\n",
    "- compile의 loss에 문자열로 'categorical_crossentropy'를 기재\n",
    "- 소프트맥스 회귀에서 사용했던 손실 함수\n",
    "- model.compile(loss='categorical_crossentropy', optimizer='adam', metrics=['acc'])\n",
    "- compile의 loss는 tf.keras.losses.Loss 인스턴스를 호출하므로 위 코드는 아래와 같이 사용\n",
    "- model.compile(loss=tf.keras.losses.CategoricalCrossentropy(), optimizer='adam', metrics=['acc'])\n",
    "\n",
    "- 만약 레이블에 대해서 원-핫 인코딩 과정을 생략하고, 정수값을 가진 레이블에 대해서 다중 클래스 분류를 수행하고 싶다면 다음과 같이 'sparse_categorical_crossentropy'를 사용\n",
    "\n",
    "- model.compile(loss='sparse_categorical_crossentropy', optimizer='adam', metrics=['acc'])\n",
    "- model.compile(loss=tf.keras.losses.SparseCategoricalCrossentropy(), optimizer='adam', metrics=['acc'])\n",
    "\n",
    "\n",
    "#### 1.1.1.4 그 외에 다양한 손실 함수들\n",
    "\n",
    "- https://www.tensorflow.org/api_docs/python/tf/keras/losses\n",
    "\n",
    "\n",
    "\n",
    "### 1.1.2 옵티마이저 \n",
    "\n",
    "#### 1.1.2.1 배치 크기(Batch Size)에 따른 경사 하강법\n",
    "\n",
    "##### 1.1.2.1.1 배치 경사 하강법(Batch Gradient Descent)\n",
    "\n",
    "- 옵티마이저 중 하나로 오차(loss)를 구할 때 전체 데이터를 고려\n",
    "- 한 번의 에포크에 모든 매개변수 업데이트를 단 한 번 수행\n",
    "- 시간이 오래 걸리며, 메모리를 크게 요구\n",
    "\n",
    "- model.fit(X_train, y_train, batch_size=len(X_train))\n",
    "\n",
    "\n",
    "##### 1.1.2.1.2 배치 크기가 1인 확률적 경사 하강법(Stochastic Gradient Descent, SGD)\n",
    "\n",
    "- 배치 크기가 1인 확률적 경사 하강법은 매개변수 값을 조정 시 전체 데이터가 아니라 랜덤으로 선택한 하나의 데이터에 대해서만 계산하는 방법\n",
    "- 확률적 경사 하강법은 매개변수의 변경폭이 불안정하고, 때로는 배치 경사 하강법보다 정확도가 낮을 수도\n",
    "- 자원이 적은 컴퓨터에서도 쉽게 사용가능\n",
    "\n",
    "- model.fit(X_train, y_train, batch_size=1)\n",
    "\n",
    "\n",
    "##### 1.1.2.1.3 미니 배치 경사 하강법(Mini-Batch Gradient Descent)\n",
    "\n",
    "- 전체 데이터를 계산하는 것보다 빠르며, SGD보다 안정적이라는 장점\n",
    "- model.fit(X_train, y_train, batch_size=128)\n",
    "\n",
    "\n",
    "#### 1.1.2.2 옵티마이저(Optimizer)\n",
    "\n",
    "1) 모멘텀(Momentum)\n",
    "- tf.keras.optimizers.SGD(lr=0.01, momentum=0.9)\n",
    "\n",
    "2) 아다그라드(Adagrad)\n",
    "- tf.keras.optimizers.Adagrad(lr=0.01, epsilon=1e-6)\n",
    "\n",
    "3) 알엠에스프롭(RMSprop)\n",
    "- tf.keras.optimizers.RMSprop(lr=0.001, rho=0.9, epsilon=1e-06)\n",
    "\n",
    "4) 아담(Adam)\n",
    "- tf.keras.optimizers.Adam(lr=0.001, beta_1=0.9, beta_2=0.999, epsilon=None, decay=0.0, amsgrad=False)\n",
    "\n",
    "5) 사용 방법\n",
    "- 각 옵티마이저 인스턴스는 compile의 optimizer에서 호출\n",
    "- adam = tf.keras.optimizers.Adam(lr=0.001, beta_1=0.9, beta_2=0.999, epsilon=None, decay=0.0, amsgrad=False)\n",
    "- model.compile(loss='categorical_crossentropy', optimizer=adam, metrics=['acc'])\n",
    "\n",
    "- model.compile(loss='categorical_crossentropy', optimizer='adam', metrics=['acc'])"
   ]
  },
  {
   "cell_type": "code",
   "execution_count": null,
   "metadata": {},
   "outputs": [],
   "source": []
  },
  {
   "cell_type": "code",
   "execution_count": null,
   "metadata": {},
   "outputs": [],
   "source": []
  },
  {
   "cell_type": "code",
   "execution_count": null,
   "metadata": {},
   "outputs": [],
   "source": []
  },
  {
   "cell_type": "code",
   "execution_count": null,
   "metadata": {},
   "outputs": [],
   "source": []
  },
  {
   "cell_type": "code",
   "execution_count": null,
   "metadata": {},
   "outputs": [],
   "source": []
  },
  {
   "cell_type": "code",
   "execution_count": null,
   "metadata": {},
   "outputs": [],
   "source": []
  },
  {
   "cell_type": "code",
   "execution_count": null,
   "metadata": {},
   "outputs": [],
   "source": []
  },
  {
   "cell_type": "code",
   "execution_count": null,
   "metadata": {},
   "outputs": [],
   "source": []
  },
  {
   "cell_type": "code",
   "execution_count": null,
   "metadata": {},
   "outputs": [],
   "source": []
  },
  {
   "cell_type": "code",
   "execution_count": null,
   "metadata": {},
   "outputs": [],
   "source": []
  },
  {
   "cell_type": "code",
   "execution_count": null,
   "metadata": {},
   "outputs": [],
   "source": []
  },
  {
   "cell_type": "code",
   "execution_count": null,
   "metadata": {},
   "outputs": [],
   "source": []
  },
  {
   "cell_type": "code",
   "execution_count": null,
   "metadata": {},
   "outputs": [],
   "source": []
  },
  {
   "cell_type": "code",
   "execution_count": null,
   "metadata": {},
   "outputs": [],
   "source": []
  },
  {
   "cell_type": "code",
   "execution_count": null,
   "metadata": {},
   "outputs": [],
   "source": []
  },
  {
   "cell_type": "code",
   "execution_count": null,
   "metadata": {},
   "outputs": [],
   "source": []
  },
  {
   "cell_type": "code",
   "execution_count": null,
   "metadata": {},
   "outputs": [],
   "source": []
  },
  {
   "cell_type": "code",
   "execution_count": null,
   "metadata": {},
   "outputs": [],
   "source": []
  },
  {
   "cell_type": "code",
   "execution_count": null,
   "metadata": {},
   "outputs": [],
   "source": []
  },
  {
   "cell_type": "code",
   "execution_count": null,
   "metadata": {},
   "outputs": [],
   "source": []
  },
  {
   "cell_type": "code",
   "execution_count": null,
   "metadata": {},
   "outputs": [],
   "source": []
  },
  {
   "cell_type": "code",
   "execution_count": null,
   "metadata": {},
   "outputs": [],
   "source": []
  },
  {
   "cell_type": "code",
   "execution_count": null,
   "metadata": {},
   "outputs": [],
   "source": []
  },
  {
   "cell_type": "code",
   "execution_count": null,
   "metadata": {},
   "outputs": [],
   "source": []
  },
  {
   "cell_type": "code",
   "execution_count": null,
   "metadata": {},
   "outputs": [],
   "source": []
  },
  {
   "cell_type": "code",
   "execution_count": null,
   "metadata": {},
   "outputs": [],
   "source": []
  },
  {
   "cell_type": "code",
   "execution_count": null,
   "metadata": {},
   "outputs": [],
   "source": []
  },
  {
   "cell_type": "code",
   "execution_count": null,
   "metadata": {},
   "outputs": [],
   "source": []
  },
  {
   "cell_type": "code",
   "execution_count": null,
   "metadata": {},
   "outputs": [],
   "source": []
  },
  {
   "cell_type": "code",
   "execution_count": null,
   "metadata": {},
   "outputs": [],
   "source": []
  },
  {
   "cell_type": "code",
   "execution_count": null,
   "metadata": {},
   "outputs": [],
   "source": []
  },
  {
   "cell_type": "code",
   "execution_count": null,
   "metadata": {},
   "outputs": [],
   "source": []
  },
  {
   "cell_type": "code",
   "execution_count": null,
   "metadata": {},
   "outputs": [],
   "source": []
  },
  {
   "cell_type": "code",
   "execution_count": null,
   "metadata": {},
   "outputs": [],
   "source": []
  },
  {
   "cell_type": "code",
   "execution_count": null,
   "metadata": {},
   "outputs": [],
   "source": []
  },
  {
   "cell_type": "code",
   "execution_count": null,
   "metadata": {},
   "outputs": [],
   "source": []
  }
 ],
 "metadata": {
  "kernelspec": {
   "display_name": "Python 3.9.12 ('base')",
   "language": "python",
   "name": "python3"
  },
  "language_info": {
   "name": "python",
   "version": "3.9.12"
  },
  "orig_nbformat": 4,
  "vscode": {
   "interpreter": {
    "hash": "9b6f0d8d647a14ce7aec9650edf6792f5fc61b159b6795cf61c93c7b5c41aef5"
   }
  }
 },
 "nbformat": 4,
 "nbformat_minor": 2
}
