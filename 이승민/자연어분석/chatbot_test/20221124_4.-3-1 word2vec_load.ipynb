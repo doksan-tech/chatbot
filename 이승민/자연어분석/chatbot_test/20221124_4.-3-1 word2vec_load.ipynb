{
 "cells": [
  {
   "cell_type": "markdown",
   "metadata": {},
   "source": [
    "#### Word2Vec 모델 활용 \n",
    "#### 생성된 Word2Vec 모델 파일 읽어와 실제로 단어 임베딩된 값과 벡터 공간상 유사한 단어들을 확인하는 실습"
   ]
  },
  {
   "cell_type": "code",
   "execution_count": 1,
   "metadata": {},
   "outputs": [
    {
     "name": "stdout",
     "output_type": "stream",
     "text": [
      "corpus_total_words : 1076899\n",
      "사랑 :  [ 1.05117284e-01 -5.61056733e-01  2.59262204e-01 -7.89954811e-02\n",
      "  2.17539489e-01 -1.51002809e-01 -2.92797208e-01  2.61966944e-01\n",
      " -2.11621717e-01  1.99567601e-01  1.65059686e-01 -1.60983548e-01\n",
      "  1.29249707e-01  1.20795593e-02  6.21797256e-02  3.79749507e-01\n",
      " -3.25907394e-02 -5.15211280e-03  8.81729946e-02 -2.28114516e-01\n",
      "  1.71788245e-01  3.71526867e-01 -2.69237071e-01  1.05925977e-01\n",
      " -1.15749687e-01 -1.46060988e-01 -4.48328666e-02 -2.64435913e-02\n",
      " -3.46578419e-01 -1.25591457e-01 -1.11184437e-02 -2.08312213e-01\n",
      " -1.47137165e-01 -2.35152736e-01  2.96372920e-01  2.70349145e-01\n",
      "  1.01661399e-01 -7.71923885e-02 -1.01667047e-01 -1.43746227e-01\n",
      " -1.50680706e-01  7.96779841e-02 -2.40597889e-01 -3.72045726e-01\n",
      "  3.97346407e-01  1.21259905e-01 -1.66391179e-01 -1.71774238e-01\n",
      "  1.76648766e-01 -7.64416531e-02  9.60787982e-02 -4.33756948e-01\n",
      " -7.69154355e-02 -9.01477635e-02  2.92562187e-01  1.17107421e-01\n",
      "  3.34723979e-01 -3.49366605e-01  1.71262756e-01 -9.79695935e-03\n",
      "  4.74489368e-02 -3.47065814e-02 -2.85609692e-01  2.06706583e-01\n",
      "  7.57405758e-02 -7.40875527e-02 -5.20778537e-01  2.54127622e-01\n",
      "  1.62918285e-01  5.28047383e-01 -3.65770236e-02 -2.13056684e-01\n",
      "  1.72284007e-01 -2.52124459e-01  2.43713781e-01 -3.65328640e-02\n",
      "  4.78878349e-01 -8.83592069e-02 -2.95562018e-02 -6.08069934e-02\n",
      "  2.19704628e-01 -1.17471337e-01  1.23702034e-01  4.13531870e-01\n",
      " -1.58366933e-02 -9.54290554e-02 -1.41382039e-01  6.13207668e-02\n",
      " -1.46622673e-01  1.86432347e-01  3.97641025e-02  3.83416504e-01\n",
      " -1.54542983e-01 -4.50562872e-02  1.91023603e-01  1.96340401e-02\n",
      " -1.69382989e-01 -1.17747366e-01 -1.72291517e-01 -1.50418177e-01\n",
      " -3.27993423e-01  6.48467660e-01  1.41273156e-01 -7.74644539e-02\n",
      "  9.44404379e-02 -6.58658519e-02  1.31335422e-01  2.05548061e-03\n",
      "  3.24796438e-02 -5.35447657e-01 -1.20568261e-01 -5.50068676e-01\n",
      " -1.41736925e-01 -3.02331168e-02  2.28482932e-01 -2.35552266e-01\n",
      "  2.92652585e-02 -1.38404638e-01 -8.57984200e-02  8.48297551e-02\n",
      "  1.03283934e-01 -2.32132934e-02  2.11636707e-01 -2.07265750e-01\n",
      " -1.70269348e-02  4.66058433e-01 -1.65160701e-01  3.98657173e-01\n",
      "  1.52995706e-01 -2.16084011e-02  1.16120502e-01  2.68914104e-01\n",
      " -1.90483660e-01  1.82385415e-01 -2.10680906e-02  1.62343591e-01\n",
      "  1.48600072e-01  5.48677258e-02  1.16637066e-01  7.92310908e-02\n",
      "  7.00749829e-02 -2.01877117e-01 -1.28024951e-01 -4.18708136e-04\n",
      "  1.28542885e-01 -8.64752289e-03 -1.78946421e-01 -1.42389134e-01\n",
      "  9.15917084e-02 -1.02424407e-02  7.16392547e-02 -2.64504522e-01\n",
      "  6.00812375e-04 -6.43463433e-02 -1.82865396e-01 -1.30101219e-01\n",
      "  2.45037541e-01 -1.33372784e-01  1.07461601e-01 -9.13032293e-02\n",
      "  1.06676519e-01 -3.39813307e-02  3.38149928e-02 -2.48839021e-01\n",
      " -2.05382943e-01  1.38607368e-01 -1.42743006e-01  2.83395741e-02\n",
      "  9.42635015e-02  1.66670859e-01 -3.24233115e-01  2.88088232e-01\n",
      "  3.24478686e-01 -9.46440101e-02 -6.07667230e-02  5.42681254e-02\n",
      "  1.75425410e-01 -1.51749119e-01  7.77231753e-02  3.37653682e-02\n",
      " -2.67468303e-01  1.38757378e-01  1.14115328e-01 -3.32390741e-02\n",
      " -2.21442297e-01 -1.70265716e-02 -2.24095527e-02 -1.08955823e-01\n",
      "  2.89436996e-01  2.84106761e-01  1.72309756e-01 -1.39099061e-01\n",
      "  4.55534719e-02  1.44403830e-01  1.51389882e-01 -1.40452506e-02\n",
      " -5.68210706e-02 -2.29968578e-01  1.71695381e-01  1.07616499e-01]\n",
      "일요일 = 월요일\t 0.6705644\n",
      "안성기 = 배우\t 0.49668843\n",
      "대기업 = 삼성\t 0.56997824\n",
      "일요일 != 삼성\t 0.2361179\n",
      "히어로 != 삼성\t 0.17081231\n",
      "[('지진희', 0.6867272853851318), ('문소리', 0.6836526393890381), ('씨야', 0.6793378591537476), ('장미희', 0.6707894802093506), ('김유미', 0.6647987365722656)]\n",
      "[('캐리비안의 해적', 0.671525776386261), ('비포 선셋', 0.6409196853637695), ('더 울버린', 0.6401306986808777), ('러시아워', 0.6338974833488464), ('반지의 제왕', 0.6309728026390076)]\n"
     ]
    }
   ],
   "source": [
    "# Word2Vec 모델 활용 \n",
    "\n",
    "from gensim.models import Word2Vec \n",
    "\n",
    "# 모델 로딩\n",
    "# Word2Vec 객체 생성 \n",
    "model = Word2Vec.load('./word2vec/nvmc.model') \n",
    "print('corpus_total_words :', model.corpus_total_words) \n",
    "\n",
    "# '사랑' 단어로 생성한 단어 임베딩 벡터 \n",
    "# 모델 학습할 때 설정한 vector_size 하이퍼파라미터 만큼 단어 임베딩 벡터 차원 크기결정\n",
    "print('사랑 : ', model.wv['사랑']) \n",
    "\n",
    "# 단어 유사도 계산 \n",
    "# gensim 패키지 model.wv.similarity() 함수 호출하면 두 단어 간의 유사도 계산 \n",
    "print('일요일 = 월요일\\t', model.wv.similarity(w1='일요일', w2='월요일')) \n",
    "print('안성기 = 배우\\t', model.wv.similarity(w1='안성기', w2='배우'))\n",
    "print('대기업 = 삼성\\t', model.wv.similarity(w1='대기업', w2='삼성'))\n",
    "print('일요일 != 삼성\\t', model.wv.similarity(w1='일요일', w2='삼성'))\n",
    "print('히어로 != 삼성\\t', model.wv.similarity(w1='히어로', w2='삼성'))\n",
    "\n",
    "# 가장 유사한 단어 추출 \n",
    "# gensim 패키지 model.wv.most_similar() 함수 호출하면 인자로 사용한 단어와 가장 유사한 단어 리스트로 반환.\n",
    "# 벡터 공간에서 가장 가까운 거리에 있는 단어 반환 \n",
    "# topn 인자는 반환되는 유사한 단어 수를 의미.\n",
    "print(model.wv.most_similar('안성기', topn=5))\n",
    "print(model.wv.most_similar('시리즈', topn=5))"
   ]
  },
  {
   "cell_type": "code",
   "execution_count": null,
   "metadata": {},
   "outputs": [],
   "source": []
  },
  {
   "cell_type": "code",
   "execution_count": null,
   "metadata": {},
   "outputs": [],
   "source": []
  },
  {
   "cell_type": "code",
   "execution_count": null,
   "metadata": {},
   "outputs": [],
   "source": []
  },
  {
   "cell_type": "code",
   "execution_count": null,
   "metadata": {},
   "outputs": [],
   "source": []
  },
  {
   "cell_type": "code",
   "execution_count": null,
   "metadata": {},
   "outputs": [],
   "source": []
  },
  {
   "cell_type": "code",
   "execution_count": null,
   "metadata": {},
   "outputs": [],
   "source": []
  },
  {
   "cell_type": "code",
   "execution_count": null,
   "metadata": {},
   "outputs": [],
   "source": []
  },
  {
   "cell_type": "code",
   "execution_count": null,
   "metadata": {},
   "outputs": [],
   "source": []
  },
  {
   "cell_type": "code",
   "execution_count": null,
   "metadata": {},
   "outputs": [],
   "source": []
  },
  {
   "cell_type": "code",
   "execution_count": null,
   "metadata": {},
   "outputs": [],
   "source": []
  },
  {
   "cell_type": "code",
   "execution_count": null,
   "metadata": {},
   "outputs": [],
   "source": []
  },
  {
   "cell_type": "code",
   "execution_count": null,
   "metadata": {},
   "outputs": [],
   "source": []
  },
  {
   "cell_type": "code",
   "execution_count": null,
   "metadata": {},
   "outputs": [],
   "source": []
  },
  {
   "cell_type": "code",
   "execution_count": null,
   "metadata": {},
   "outputs": [],
   "source": []
  },
  {
   "cell_type": "code",
   "execution_count": null,
   "metadata": {},
   "outputs": [],
   "source": []
  },
  {
   "cell_type": "code",
   "execution_count": null,
   "metadata": {},
   "outputs": [],
   "source": []
  },
  {
   "cell_type": "code",
   "execution_count": null,
   "metadata": {},
   "outputs": [],
   "source": []
  },
  {
   "cell_type": "code",
   "execution_count": null,
   "metadata": {},
   "outputs": [],
   "source": []
  },
  {
   "cell_type": "code",
   "execution_count": null,
   "metadata": {},
   "outputs": [],
   "source": []
  },
  {
   "cell_type": "code",
   "execution_count": null,
   "metadata": {},
   "outputs": [],
   "source": []
  },
  {
   "cell_type": "code",
   "execution_count": null,
   "metadata": {},
   "outputs": [],
   "source": []
  },
  {
   "cell_type": "code",
   "execution_count": null,
   "metadata": {},
   "outputs": [],
   "source": []
  },
  {
   "cell_type": "code",
   "execution_count": null,
   "metadata": {},
   "outputs": [],
   "source": []
  },
  {
   "cell_type": "code",
   "execution_count": null,
   "metadata": {},
   "outputs": [],
   "source": []
  },
  {
   "cell_type": "code",
   "execution_count": null,
   "metadata": {},
   "outputs": [],
   "source": []
  },
  {
   "cell_type": "code",
   "execution_count": null,
   "metadata": {},
   "outputs": [],
   "source": []
  },
  {
   "cell_type": "code",
   "execution_count": null,
   "metadata": {},
   "outputs": [],
   "source": []
  }
 ],
 "metadata": {
  "kernelspec": {
   "display_name": "Python 3.9.12 ('base')",
   "language": "python",
   "name": "python3"
  },
  "language_info": {
   "codemirror_mode": {
    "name": "ipython",
    "version": 3
   },
   "file_extension": ".py",
   "mimetype": "text/x-python",
   "name": "python",
   "nbconvert_exporter": "python",
   "pygments_lexer": "ipython3",
   "version": "3.9.12"
  },
  "orig_nbformat": 4,
  "vscode": {
   "interpreter": {
    "hash": "ca71aff40853dd846130b67975d07637ec6294bee047a07657cfc9075e3162be"
   }
  }
 },
 "nbformat": 4,
 "nbformat_minor": 2
}
