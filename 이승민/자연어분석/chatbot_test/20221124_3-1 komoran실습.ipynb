{
 "cells": [
  {
   "cell_type": "markdown",
   "metadata": {},
   "source": [
    "Komoran 함수 \n",
    "\n",
    "- morphs(phrase): 인자로 입력한 문장을 형태소 단위로 토크나이징. 형태소들은 리스트 반환 \n",
    "- nouns(phrase): 인자로 입력한 문장에서 품사가 명사인 토큰들만 추출 \n",
    "- pos(phrase, flatten=True): POS tagger. 인자로 입력한 문장에서 형태소를 추출한 뒤 품사 태깅. 형태소와 품사가 튜플 형태 리스트 반환 "
   ]
  },
  {
   "cell_type": "code",
   "execution_count": 1,
   "metadata": {},
   "outputs": [
    {
     "name": "stdout",
     "output_type": "stream",
     "text": [
      "['승', '민이', '는', '크', '게', '성공', '하', 'ㄴ다', '.']\n",
      "[('승', 'NNG'), ('민이', 'NNP'), ('는', 'JX'), ('크', 'VA'), ('게', 'EC'), ('성공', 'NNG'), ('하', 'XSV'), ('ㄴ다', 'EF'), ('.', 'SF')]\n",
      "['승', '민이', '성공']\n"
     ]
    }
   ],
   "source": [
    "# 토크나이징 예제 \n",
    "from konlpy.tag import Komoran\n",
    "\n",
    "# 코모란 형태소 분석기 객체 생성\n",
    "komoran = Komoran()\n",
    "\n",
    "text = '승민이는 크게 성공한다.' \n",
    "\n",
    "# 형태소 추출 \n",
    "morphs = komoran.morphs(text) \n",
    "print(morphs) \n",
    "\n",
    "# 형태소와 품사 태그 추출\n",
    "pos = komoran.pos(text) \n",
    "print(pos) \n",
    "\n",
    "# 명사만 추출\n",
    "nouns = komoran.nouns(text) \n",
    "print(nouns)  "
   ]
  }
 ],
 "metadata": {
  "kernelspec": {
   "display_name": "Python 3.9.12 ('base')",
   "language": "python",
   "name": "python3"
  },
  "language_info": {
   "codemirror_mode": {
    "name": "ipython",
    "version": 3
   },
   "file_extension": ".py",
   "mimetype": "text/x-python",
   "name": "python",
   "nbconvert_exporter": "python",
   "pygments_lexer": "ipython3",
   "version": "3.9.12"
  },
  "orig_nbformat": 4,
  "vscode": {
   "interpreter": {
    "hash": "ca71aff40853dd846130b67975d07637ec6294bee047a07657cfc9075e3162be"
   }
  }
 },
 "nbformat": 4,
 "nbformat_minor": 2
}
