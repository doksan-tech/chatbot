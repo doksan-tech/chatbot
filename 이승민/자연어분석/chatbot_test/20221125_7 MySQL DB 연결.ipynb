{
 "cells": [
  {
   "cell_type": "code",
   "execution_count": null,
   "metadata": {},
   "outputs": [],
   "source": [
    "import pymysql\n",
    "\n",
    "# DB_HOST=127.0.0.1\n",
    "# DB_PORT=3306\n",
    "# DB_DATABASE=homestead\n",
    "# DB_USERNAME=homestead\n",
    "# DB_PASSWORD=secret\n",
    "\n",
    "db = None\n",
    "try:\n",
    "    # DB 호스트 정보에 맞게 입력해주세요\n",
    "    db = pymysql.connect(\n",
    "        host='127.0.0.1',\n",
    "        user='root',\n",
    "        passwd='1234',\n",
    "        db='chatbot',\n",
    "        charset='utf8'\n",
    "    )\n",
    "    print(\"DB 연결 성공\")\n",
    "\n",
    "\n",
    "except Exception as e:\n",
    "    print(e)\n",
    "\n",
    "finally:\n",
    "    if db is not None:\n",
    "        db.close()\n",
    "        print(\"DB 연결 닫기 성공\")"
   ]
  }
 ],
 "metadata": {
  "kernelspec": {
   "display_name": "Python 3.9.12 ('base')",
   "language": "python",
   "name": "python3"
  },
  "language_info": {
   "name": "python",
   "version": "3.9.12"
  },
  "orig_nbformat": 4,
  "vscode": {
   "interpreter": {
    "hash": "ca71aff40853dd846130b67975d07637ec6294bee047a07657cfc9075e3162be"
   }
  }
 },
 "nbformat": 4,
 "nbformat_minor": 2
}
