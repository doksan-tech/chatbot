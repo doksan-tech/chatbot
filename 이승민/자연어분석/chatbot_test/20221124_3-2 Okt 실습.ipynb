{
 "cells": [
  {
   "cell_type": "markdown",
   "metadata": {},
   "source": [
    "Okt 모듈 함수 \n",
    "\n",
    "- morphs(phrase): 인자로 입력한 문장을 형태소 단위로 토크나이징. 리스트 반환\n",
    "- nuouns(phrase): 인자로 입력한 문장에서 품사 명사인 토큰들만 추출\n",
    "- pos(phrase, stem=False, join=False): POS tagger. 인자로 입력한 문장에서 형태소 추출하고 품사 태깅. 튜플 묶여서 리스트 반환 \n",
    "- normalize(phrase): 입력한 문장 정규화.\n",
    "- phrases(phrase): 입력한 문장에서 어구 추출"
   ]
  },
  {
   "cell_type": "code",
   "execution_count": 1,
   "metadata": {},
   "outputs": [
    {
     "name": "stdout",
     "output_type": "stream",
     "text": [
      "['승민', '이', '는', '크게', '성공한다', '.']\n",
      "[('승민', 'Noun'), ('이', 'Suffix'), ('는', 'Josa'), ('크게', 'Noun'), ('성공한다', 'Adjective'), ('.', 'Punctuation')]\n",
      "['승민', '크게']\n",
      "오늘 날씨가 좋아요ㅋㅋ\n",
      "['오늘', '오늘 날씨', '좋아욬', '날씨']\n"
     ]
    }
   ],
   "source": [
    "# 토크나이징 예제 \n",
    "from konlpy.tag import Okt \n",
    "\n",
    "# okt 형태소 분석기 객체 생성\n",
    "okt = Okt()\n",
    "\n",
    "text = '승민이는 크게 성공한다.' \n",
    "\n",
    "# 형태소 추출 \n",
    "morphs = okt.morphs(text) \n",
    "print(morphs) \n",
    "\n",
    "# 형태소와 품사 태그 추출\n",
    "pos = okt.pos(text) \n",
    "print(pos) \n",
    "\n",
    "# 명사만 추출\n",
    "nouns = okt.nouns(text) \n",
    "print(nouns)\n",
    "\n",
    "# 정규화, 어구 추출\n",
    "text = '오늘 날씨가 좋아욬ㅋㅋ'\n",
    "print(okt.normalize(text))\n",
    "print(okt.phrases(text))"
   ]
  }
 ],
 "metadata": {
  "kernelspec": {
   "display_name": "Python 3.9.12 ('base')",
   "language": "python",
   "name": "python3"
  },
  "language_info": {
   "codemirror_mode": {
    "name": "ipython",
    "version": 3
   },
   "file_extension": ".py",
   "mimetype": "text/x-python",
   "name": "python",
   "nbconvert_exporter": "python",
   "pygments_lexer": "ipython3",
   "version": "3.9.12"
  },
  "orig_nbformat": 4,
  "vscode": {
   "interpreter": {
    "hash": "ca71aff40853dd846130b67975d07637ec6294bee047a07657cfc9075e3162be"
   }
  }
 },
 "nbformat": 4,
 "nbformat_minor": 2
}
