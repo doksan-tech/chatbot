{
 "cells": [
  {
   "cell_type": "markdown",
   "metadata": {},
   "source": [
    "##### Kkma 모듈 함수 \n",
    "\n",
    "- morphs(phrase): 인자로 입력한 문장을 형태소 단위로 토크나이징. 토크나이징된 형태소들 리스트 형태로 반환\n",
    "- nouns(phrase) : 인자로 입력한 문장에서 품사가 명사인 토큰만 추출\n",
    "- pos(phrase, flatten=True): POS tagger 부르며, 인자로 입력한 문장에서 형태소 추출하고 품사 태깅. 형태소와 품사가 튜플 형태 묶여 리스트 반환 \n",
    "- sentences(phrase): 인자로 입력한 여러 문장을 분리. 분리된 문장은 리스트 형태로 반환 "
   ]
  },
  {
   "cell_type": "code",
   "execution_count": 1,
   "metadata": {},
   "outputs": [
    {
     "name": "stdout",
     "output_type": "stream",
     "text": [
      "['승', '민', '이', '늘', 'ㄴ', '크', '게', '성공', '하', 'ㄴ다', '.']\n",
      "[('승', 'NNG'), ('민', 'NNG'), ('이', 'JKS'), ('늘', 'VV'), ('ㄴ', 'ETD'), ('크', 'VA'), ('게', 'ECD'), ('성공', 'NNG'), ('하', 'XSV'), ('ㄴ다', 'EFN'), ('.', 'SF')]\n",
      "['승', '승민', '민', '성공']\n",
      "['오늘 날씨가 어 때? 내일 춥다 던데. 옷 따듯하게 입어.']\n"
     ]
    }
   ],
   "source": [
    "# 토크나이징 예제 \n",
    "from konlpy.tag import Kkma \n",
    "\n",
    "# 꼬꼬마 형태소 분석기 객체 생성\n",
    "kkma = Kkma()\n",
    "\n",
    "text = '승민이는 크게 성공한다.' \n",
    "\n",
    "# 형태소 추출 \n",
    "morphs = kkma.morphs(text) \n",
    "print(morphs) \n",
    "\n",
    "# 형태소와 품사 태그 추출\n",
    "pos = kkma.pos(text) \n",
    "print(pos) \n",
    "\n",
    "# 명사만 추출\n",
    "nouns = kkma.nouns(text) \n",
    "print(nouns) \n",
    "\n",
    "# 문장 분리 \n",
    "sentences = '오늘 날씨가 어때? 내일 춥다던데. 옷 따듯하게 입어.' \n",
    "s = kkma.sentences(sentences) \n",
    "print(s) "
   ]
  }
 ],
 "metadata": {
  "kernelspec": {
   "display_name": "Python 3.9.12 ('base')",
   "language": "python",
   "name": "python3"
  },
  "language_info": {
   "codemirror_mode": {
    "name": "ipython",
    "version": 3
   },
   "file_extension": ".py",
   "mimetype": "text/x-python",
   "name": "python",
   "nbconvert_exporter": "python",
   "pygments_lexer": "ipython3",
   "version": "3.9.12"
  },
  "orig_nbformat": 4,
  "vscode": {
   "interpreter": {
    "hash": "ca71aff40853dd846130b67975d07637ec6294bee047a07657cfc9075e3162be"
   }
  }
 },
 "nbformat": 4,
 "nbformat_minor": 2
}
