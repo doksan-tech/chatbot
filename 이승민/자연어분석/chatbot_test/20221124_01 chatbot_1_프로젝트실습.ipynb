{
 "cells": [
  {
   "cell_type": "markdown",
   "metadata": {},
   "source": [
    "#1. 프로젝트 구조 \n",
    "\n",
    "- 챗봇 프로젝트 디렉터리 구조\n",
    "\n",
    "- chatbot -- train_tools \n",
    "\n",
    "           - models --------- intent\n",
    "\n",
    "           - utils          ㄴ ner\n",
    "\n",
    "           - config\n",
    "           \n",
    "           - test\n",
    "\n",
    "- train_tools: 챗봇 학습툴 관련 파일 \n",
    "- models : 챗봇 엔진에서 사용하는 딥러닝 모델 관련 파일\n",
    "- intent : 의도 분류 모델 관련 파일 \n",
    "- ner : 개체 인식 모델 관련 파일 \n",
    "- utils : 챗봇 개발에 필요한 유틸리티 라이브러리 \n",
    "- config : 챗봇 개발에 필요한 설정 \n",
    "- test : 챗봇 개발에 필요한 테스트 코드   "
   ]
  },
  {
   "cell_type": "markdown",
   "metadata": {},
   "source": [
    "## 1-1. 학습용 데이터베이스 설계 및 데이터 테이블 생성 \n",
    "\n",
    "- 챗봇 엔진 답변 처리 과정에 필요한 DB 구조 설계\n",
    "- 학습할 수 있는 툴 만들기 \n",
    "\n",
    "- 학습툴에 필요한 DB 구조 설계 \n",
    "- 목표: 간단한 수준의 토이 챗봇 - 데이터 무결성, 정규화 큰 신경 X "
   ]
  },
  {
   "cell_type": "markdown",
   "metadata": {},
   "source": [
    "| 컬럼   | 속성                      | 설명                                                    |\n",
    "\n",
    " : ---     -------------------------    -----------------------------------------------------\n",
    "\n",
    "| id     | int primary key not null | 학습 데이터 id                                           |\n",
    "\n",
    "| intent | varchar(45)              | 의도명, 의도가 없는 경우 null                             |\n",
    "\n",
    "| ner    | varcahr(45)              | 개체명, 개체명이 없는 경우 null                           |\n",
    "\n",
    "| query  | text null                | 질문 텍스트                                              |\n",
    "\n",
    "| answer | text not null            | 답변 텍스트                                              |\n",
    "\n",
    "| answer | image varchar(2048)      | 답변에 들어갈 이미지 URL, 이미지 URL 사용하지 않을 경우 null|"
   ]
  },
  {
   "cell_type": "markdown",
   "metadata": {},
   "source": [
    "## 1-2. DB 서버 접속 정보를 /config 디럭터리 내 파일로 따로 관리 \n",
    "\n",
    "- ./config/DatabaseConfig.py 파일 생성"
   ]
  },
  {
   "cell_type": "markdown",
   "metadata": {},
   "source": [
    "## 1-3. 챗봇 데이터 학습용 테이블 생성 코드 \n",
    "\n",
    "- 챗복 학습툴과 관련 \n",
    "- ./train_tools/qna/create_train_data_table.py 생성"
   ]
  },
  {
   "cell_type": "code",
   "execution_count": 5,
   "metadata": {},
   "outputs": [
    {
     "name": "stdout",
     "output_type": "stream",
     "text": [
      "name 'DB_PASSWORD' is not defined\n"
     ]
    }
   ],
   "source": [
    "import pymysql\n",
    "from config.DatabaseConfig import * # DB 접속 정보 불러오기\n",
    "\n",
    "db = None\n",
    "try:\n",
    "    db = pymysql.connect(\n",
    "        host=DB_HOST,\n",
    "        user=DB_USER,\n",
    "        passwd=DB_PASSWORD,\n",
    "        db=DB_NAME,\n",
    "        charset='utf8'\n",
    "    )\n",
    "\n",
    "    # 테이블 생성 sql 정의\n",
    "    sql = '''\n",
    "      CREATE TABLE IF NOT EXISTS `chatbot_train_data` (\n",
    "      `id` INT UNSIGNED NOT NULL AUTO_INCREMENT,\n",
    "      `intent` VARCHAR(45) NULL,\n",
    "      `ner` VARCHAR(1024) NULL,\n",
    "      `query` TEXT NULL,\n",
    "      `answer` TEXT NOT NULL,\n",
    "      `answer_image` VARCHAR(2048) NULL,\n",
    "      PRIMARY KEY (`id`))\n",
    "    ENGINE = InnoDB DEFAULT CHARSET=utf8\n",
    "    '''\n",
    "\n",
    "    # 테이블 생성\n",
    "    with db.cursor() as cur:\n",
    "        cur.execute(sql)\n",
    "\n",
    "except Exception as e:\n",
    "    print(e)\n",
    "\n",
    "finally:\n",
    "    if db is not None:\n",
    "        db.close()"
   ]
  },
  {
   "cell_type": "code",
   "execution_count": null,
   "metadata": {},
   "outputs": [],
   "source": []
  },
  {
   "cell_type": "code",
   "execution_count": null,
   "metadata": {},
   "outputs": [],
   "source": []
  },
  {
   "cell_type": "code",
   "execution_count": null,
   "metadata": {},
   "outputs": [],
   "source": []
  },
  {
   "cell_type": "code",
   "execution_count": null,
   "metadata": {},
   "outputs": [],
   "source": []
  },
  {
   "cell_type": "code",
   "execution_count": null,
   "metadata": {},
   "outputs": [],
   "source": []
  },
  {
   "cell_type": "code",
   "execution_count": null,
   "metadata": {},
   "outputs": [],
   "source": []
  },
  {
   "cell_type": "code",
   "execution_count": null,
   "metadata": {},
   "outputs": [],
   "source": []
  },
  {
   "cell_type": "code",
   "execution_count": null,
   "metadata": {},
   "outputs": [],
   "source": []
  },
  {
   "cell_type": "code",
   "execution_count": null,
   "metadata": {},
   "outputs": [],
   "source": []
  },
  {
   "cell_type": "code",
   "execution_count": null,
   "metadata": {},
   "outputs": [],
   "source": []
  },
  {
   "cell_type": "code",
   "execution_count": null,
   "metadata": {},
   "outputs": [],
   "source": []
  },
  {
   "cell_type": "code",
   "execution_count": null,
   "metadata": {},
   "outputs": [],
   "source": []
  },
  {
   "cell_type": "code",
   "execution_count": null,
   "metadata": {},
   "outputs": [],
   "source": []
  },
  {
   "cell_type": "code",
   "execution_count": null,
   "metadata": {},
   "outputs": [],
   "source": []
  },
  {
   "cell_type": "code",
   "execution_count": null,
   "metadata": {},
   "outputs": [],
   "source": []
  },
  {
   "cell_type": "code",
   "execution_count": null,
   "metadata": {},
   "outputs": [],
   "source": []
  },
  {
   "cell_type": "code",
   "execution_count": null,
   "metadata": {},
   "outputs": [],
   "source": []
  },
  {
   "cell_type": "code",
   "execution_count": null,
   "metadata": {},
   "outputs": [],
   "source": []
  },
  {
   "cell_type": "code",
   "execution_count": null,
   "metadata": {},
   "outputs": [],
   "source": []
  },
  {
   "cell_type": "code",
   "execution_count": null,
   "metadata": {},
   "outputs": [],
   "source": []
  },
  {
   "cell_type": "code",
   "execution_count": null,
   "metadata": {},
   "outputs": [],
   "source": []
  },
  {
   "cell_type": "code",
   "execution_count": null,
   "metadata": {},
   "outputs": [],
   "source": []
  },
  {
   "cell_type": "code",
   "execution_count": null,
   "metadata": {},
   "outputs": [],
   "source": []
  },
  {
   "cell_type": "code",
   "execution_count": null,
   "metadata": {},
   "outputs": [],
   "source": []
  },
  {
   "cell_type": "code",
   "execution_count": null,
   "metadata": {},
   "outputs": [],
   "source": []
  },
  {
   "cell_type": "code",
   "execution_count": null,
   "metadata": {},
   "outputs": [],
   "source": []
  },
  {
   "cell_type": "code",
   "execution_count": null,
   "metadata": {},
   "outputs": [],
   "source": []
  },
  {
   "cell_type": "code",
   "execution_count": null,
   "metadata": {},
   "outputs": [],
   "source": []
  },
  {
   "cell_type": "code",
   "execution_count": null,
   "metadata": {},
   "outputs": [],
   "source": []
  },
  {
   "cell_type": "code",
   "execution_count": null,
   "metadata": {},
   "outputs": [],
   "source": []
  },
  {
   "cell_type": "code",
   "execution_count": null,
   "metadata": {},
   "outputs": [],
   "source": []
  },
  {
   "cell_type": "code",
   "execution_count": null,
   "metadata": {},
   "outputs": [],
   "source": []
  },
  {
   "cell_type": "code",
   "execution_count": null,
   "metadata": {},
   "outputs": [],
   "source": []
  },
  {
   "cell_type": "code",
   "execution_count": null,
   "metadata": {},
   "outputs": [],
   "source": []
  },
  {
   "cell_type": "code",
   "execution_count": null,
   "metadata": {},
   "outputs": [],
   "source": []
  },
  {
   "cell_type": "code",
   "execution_count": null,
   "metadata": {},
   "outputs": [],
   "source": []
  },
  {
   "cell_type": "code",
   "execution_count": null,
   "metadata": {},
   "outputs": [],
   "source": []
  },
  {
   "cell_type": "code",
   "execution_count": null,
   "metadata": {},
   "outputs": [],
   "source": []
  },
  {
   "cell_type": "code",
   "execution_count": null,
   "metadata": {},
   "outputs": [],
   "source": []
  },
  {
   "cell_type": "code",
   "execution_count": null,
   "metadata": {},
   "outputs": [],
   "source": []
  },
  {
   "cell_type": "code",
   "execution_count": null,
   "metadata": {},
   "outputs": [],
   "source": []
  }
 ],
 "metadata": {
  "kernelspec": {
   "display_name": "Python 3.9.12 ('base')",
   "language": "python",
   "name": "python3"
  },
  "language_info": {
   "codemirror_mode": {
    "name": "ipython",
    "version": 3
   },
   "file_extension": ".py",
   "mimetype": "text/x-python",
   "name": "python",
   "nbconvert_exporter": "python",
   "pygments_lexer": "ipython3",
   "version": "3.9.12"
  },
  "orig_nbformat": 4,
  "vscode": {
   "interpreter": {
    "hash": "ca71aff40853dd846130b67975d07637ec6294bee047a07657cfc9075e3162be"
   }
  }
 },
 "nbformat": 4,
 "nbformat_minor": 2
}
